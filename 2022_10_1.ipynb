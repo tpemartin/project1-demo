{
  "nbformat": 4,
  "nbformat_minor": 0,
  "metadata": {
    "colab": {
      "provenance": [],
      "collapsed_sections": [],
      "toc_visible": true,
      "authorship_tag": "ABX9TyMENwOZzAFmrfBukVYp4/+p",
      "include_colab_link": true
    },
    "kernelspec": {
      "name": "python3",
      "display_name": "Python 3"
    },
    "language_info": {
      "name": "python"
    }
  },
  "cells": [
    {
      "cell_type": "markdown",
      "metadata": {
        "id": "view-in-github",
        "colab_type": "text"
      },
      "source": [
        "<a href=\"https://colab.research.google.com/github/tpemartin/project1-demo/blob/master/2022_10_1.ipynb\" target=\"_parent\"><img src=\"https://colab.research.google.com/assets/colab-badge.svg\" alt=\"Open In Colab\"/></a>"
      ]
    },
    {
      "cell_type": "markdown",
      "source": [
        "## Start a new project\n",
        "\n",
        "Ctrl+j"
      ],
      "metadata": {
        "id": "eqTnBYzg99J4"
      }
    },
    {
      "cell_type": "code",
      "source": [
        "%%terminal\n",
        "npm init -y"
      ],
      "metadata": {
        "id": "QgLyJLKJ-Lwe"
      },
      "execution_count": null,
      "outputs": []
    },
    {
      "cell_type": "markdown",
      "source": [
        "1. Creat an index.html file. \n",
        "2. Visit [bootstrap](https://getbootstrap.com/), copy paste its html setup.\n",
        "3. Add [jQuery](https://releases.jquery.com/) to html\n",
        "\n",
        "\n",
        "```\n",
        "<script src=\"https://code.jquery.com/jquery-3.6.1.min.js\" integrity=\"sha256-o88AwQnZB+VDvE9tvIXrMQaPlFFSUTR+nldQm1LuPXQ=\" crossorigin=\"anonymous\"></script>\n",
        "```\n",
        "\n"
      ],
      "metadata": {
        "id": "W43aX5Mi_sy2"
      }
    },
    {
      "cell_type": "markdown",
      "source": [
        "\n",
        "1. Create an index.js file.\n",
        "2. link your index.html file to it via\n",
        "```\n",
        "<script src=\"./index.js\"><script/>\n",
        "```\n",
        "\n"
      ],
      "metadata": {
        "id": "PlnT8jDsAbts"
      }
    },
    {
      "cell_type": "markdown",
      "source": [
        "Test by\n",
        "1. add `<div id=\"myapp\"></div>` to body.\n",
        "2. In index.js \n",
        "\n",
        "\n",
        "```\n",
        "$(function(){\n",
        "\n",
        "}\n",
        "```\n",
        "\n"
      ],
      "metadata": {
        "id": "O4rUazfzBH6_"
      }
    },
    {
      "cell_type": "markdown",
      "source": [
        "# JS Knowledge Basics\n",
        "\n",
        "  1. [CSS selector syntax](https://www.w3schools.com/cssref/css_selectors.asp)\n",
        "  2. [jQuery cheatsheet](https://oscarotero.com/jquery/)"
      ],
      "metadata": {
        "id": "n1I1fWu0LEK1"
      }
    },
    {
      "cell_type": "markdown",
      "source": [
        "# Function in JS\n",
        "\n",
        "  * sequential input arguments setup."
      ],
      "metadata": {
        "id": "ZpmEfJxZOyyC"
      }
    },
    {
      "cell_type": "markdown",
      "source": [
        "# Check External Js\n",
        "\n",
        "  * Checked `<head>` element, right-click `<script>`"
      ],
      "metadata": {
        "id": "AQzsw5swSmP8"
      }
    },
    {
      "cell_type": "markdown",
      "source": [
        "# DOM rendering process\n",
        "\n",
        "  * [next.js](https://nextjs.org/learn/foundations/from-javascript-to-react)"
      ],
      "metadata": {
        "id": "WPU0kNHTUB9B"
      }
    },
    {
      "cell_type": "markdown",
      "source": [
        "# URL\n",
        "\n",
        " * `https://ntpu-usr.web.app/?id=DE6F396C#event`\n",
        "\n",
        " * `#` hash, `?` query. "
      ],
      "metadata": {
        "id": "nHAHlH8Wa5pb"
      }
    },
    {
      "cell_type": "markdown",
      "source": [
        "# Link `index.css`\n",
        "\n",
        "\n",
        "\n",
        "```\n",
        "<link href=\"./index.css\"  rel=\"stylesheet\" >\n",
        "```\n",
        "\n"
      ],
      "metadata": {
        "id": "2KaQInyBdBvf"
      }
    },
    {
      "cell_type": "markdown",
      "source": [
        "# Boostrap offcanvas navbar\n",
        "\n",
        "  * <https://getbootstrap.com/docs/5.2/components/navbar/#offcanvas>"
      ],
      "metadata": {
        "id": "GP2WWRIghzqN"
      }
    },
    {
      "cell_type": "markdown",
      "source": [
        "# Github \n",
        "\n",
        "  * <https://github.com/tpemartin/project1-demo>\n",
        "\n",
        "  * web app url: <https://tpemartin.github.io/project1-demo>"
      ],
      "metadata": {
        "id": "UY6C121ZloI-"
      }
    },
    {
      "cell_type": "markdown",
      "source": [
        "# USR App\n",
        "\n",
        "  * https://ntpu-usr.web.app/\n",
        "\n",
        "## Backend\n",
        "\n",
        "  * [Google Sheets](https://docs.google.com/spreadsheets/d/1-yyx_8oFVJ1lJ0x6ZEWP_fUf4VIX0Lcz__aGKVESTbY/edit?usp=sharing)"
      ],
      "metadata": {
        "id": "E2jiuijhFVHz"
      }
    }
  ]
}
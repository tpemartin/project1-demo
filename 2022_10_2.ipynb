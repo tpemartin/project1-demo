{
  "nbformat": 4,
  "nbformat_minor": 0,
  "metadata": {
    "colab": {
      "provenance": [],
      "collapsed_sections": [],
      "authorship_tag": "ABX9TyMEqKc3ap51/6qsmsR5ZMcl",
      "include_colab_link": true
    },
    "kernelspec": {
      "name": "python3",
      "display_name": "Python 3"
    },
    "language_info": {
      "name": "python"
    }
  },
  "cells": [
    {
      "cell_type": "markdown",
      "metadata": {
        "id": "view-in-github",
        "colab_type": "text"
      },
      "source": [
        "<a href=\"https://colab.research.google.com/github/tpemartin/project1-demo/blob/master/2022_10_2.ipynb\" target=\"_parent\"><img src=\"https://colab.research.google.com/assets/colab-badge.svg\" alt=\"Open In Colab\"/></a>"
      ]
    },
    {
      "cell_type": "markdown",
      "source": [
        "# Setup R in vscode\n",
        "\n",
        " . <https://code.visualstudio.com/docs/languages/r>\n",
        "\n",
        "\n",
        "```\n",
        "%%terminal\n",
        "R\n",
        "```\n",
        "then\n",
        "```\n",
        "%%R\n",
        "> install.packages(\"languageserver\")\n",
        "```"
      ],
      "metadata": {
        "id": "ui5-5r4Foyk7"
      }
    },
    {
      "cell_type": "markdown",
      "source": [
        "# Import Figma\n",
        "\n",
        "  * <https://tpemartin.github.io/client-side-webapp-development/figma.html#figma-to-r>\n",
        "\n",
        "\n",
        "1. Copy as CSS in Figma\n",
        "\n",
        "2. Create a `.R` file:\n",
        "```\n",
        "# R\n",
        "fig <- econWeb::Fig()\n",
        "fig$export(\"{name your component}\")\n",
        "```\n",
        "a `{name your component}.css` will be created.\n",
        "\n",
        "3. paste in .R file will give you the UI component function as `ui_{name your component}`\n",
        "\n",
        "4. save to html\n",
        "```\n",
        "# R\n",
        "ui_{name your component}() |>\n",
        "  htmltools::save_html(\"{name your component}.html\")\n",
        "```"
      ],
      "metadata": {
        "id": "IUkpbURgpSHp"
      }
    },
    {
      "cell_type": "code",
      "source": [
        "%%html\n",
        "<iframe style=\"border: 1px solid rgba(0, 0, 0, 0.1);\" width=\"800\" height=\"450\" src=\"https://www.figma.com/embed?embed_host=share&url=https%3A%2F%2Fwww.figma.com%2Ffile%2FvYjrEAYOQ8Rd0p5BGDTXL7%2F%25E6%2589%25BE%25E4%25BA%258B%25E7%2589%25A9-(Copy)%3Fnode-id%3D256%253A421\" allowfullscreen></iframe>"
      ],
      "metadata": {
        "colab": {
          "base_uri": "https://localhost:8080/",
          "height": 493
        },
        "id": "NXXsov3FrvA4",
        "outputId": "26adcce8-e5fe-48f9-fb8b-794de5b219d3"
      },
      "execution_count": 1,
      "outputs": [
        {
          "output_type": "display_data",
          "data": {
            "text/plain": [
              "<IPython.core.display.HTML object>"
            ],
            "text/html": [
              "<iframe style=\"border: 1px solid rgba(0, 0, 0, 0.1);\" width=\"800\" height=\"450\" src=\"https://www.figma.com/embed?embed_host=share&url=https%3A%2F%2Fwww.figma.com%2Ffile%2FvYjrEAYOQ8Rd0p5BGDTXL7%2F%25E6%2589%25BE%25E4%25BA%258B%25E7%2589%25A9-(Copy)%3Fnode-id%3D256%253A421\" allowfullscreen></iframe>\n"
            ]
          },
          "metadata": {}
        }
      ]
    },
    {
      "cell_type": "markdown",
      "source": [
        "# R-fig example repo\n",
        "\n",
        "  * <https://github.com/tpemartin/project1-demo/tree/R-fig> under branch `R-fig`."
      ],
      "metadata": {
        "id": "Mih3TWcfHoA1"
      }
    }
  ]
}